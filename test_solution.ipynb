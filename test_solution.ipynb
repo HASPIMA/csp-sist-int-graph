{
 "cells": [
  {
   "cell_type": "code",
   "execution_count": 1,
   "metadata": {},
   "outputs": [],
   "source": [
    "from utils import make_assertions"
   ]
  },
  {
   "cell_type": "code",
   "execution_count": 2,
   "metadata": {},
   "outputs": [],
   "source": [
    "F = 0\n",
    "x3 = 0\n",
    "x2 = 0\n",
    "x1 = 0\n",
    "\n",
    "U = 6\n",
    "R = 4\n",
    "\n",
    "W = 3\n",
    "T = 1\n",
    "\n",
    "O = 2\n",
    "\n",
    "# Assertions\n",
    "\n",
    "\n",
    "# print(f'\\nalldiff(...)', alldiff(F, U, R, W, T, O))\n",
    "\n",
    "# make_assertions(F=F, U=U, R=R, W=W, T=T, O=O, x1=x1, x2=x2, x3=x3)"
   ]
  },
  {
   "cell_type": "code",
   "execution_count": 3,
   "metadata": {},
   "outputs": [
    {
     "name": "stdout",
     "output_type": "stream",
     "text": [
      "THIS IS A SOLUTION\n"
     ]
    }
   ],
   "source": [
    "from utils import alldigits, alldiff, CARRY\n",
    "assert alldigits(F, U, R, W, T, O), 'All variables must be digits'\n",
    "\n",
    "try:\n",
    "    assert alldiff(F, U, R, W, T, O), 'All variables must be different'\n",
    "except AssertionError as e:\n",
    "    print('**', e)\n",
    "\n",
    "\n",
    "if True: # Hardcoded for testing purposes\n",
    "    assert alldiff(F, U, R, W, T, O), 'All variables must be different'\n",
    "\n",
    "    # O + O = R\n",
    "    assert (2*O % 10) == R, f'(2*O % 10) == R -> {2*O % 10} != {R}'\n",
    "    assert 2*O // 10 == x1, f'2*O // 10 == x1 -> {2*O // 10} != {x1}'\n",
    "\n",
    "    # W + W = U\n",
    "    assert (2*W % 10) + \\\n",
    "        x1 == U, f'(2*W % 10) + x1 == U -> {(2*W % 10) + x1} != {U}'\n",
    "    assert (\n",
    "        2*W + x1) // 10 == x2, f'(2*W + x1) // 10 == x2 -> {(2*W + x1) // 10} != {x2}'\n",
    "\n",
    "    # T + T = FO\n",
    "    assert (2*T % 10) + \\\n",
    "        x2 == O, f'(2*T % 10) + x2 == O -> {(2*T % 10) + x2} != {O}'\n",
    "    assert (\n",
    "        2*T + x2) // 10 == x3, f'(2*T + x2) // 10 == x3 -> {(2*T + x2) // 10} != {x3}'\n",
    "    assert F == x3\n",
    "\n",
    "    assert x1 in CARRY and x2 in CARRY and x3 in CARRY, 'x1, x2, x3 must be 0 or 1'\n",
    "\n",
    "    print('THIS IS A SOLUTION')\n"
   ]
  }
 ],
 "metadata": {
  "kernelspec": {
   "display_name": ".venv",
   "language": "python",
   "name": "python3"
  },
  "language_info": {
   "codemirror_mode": {
    "name": "ipython",
    "version": 3
   },
   "file_extension": ".py",
   "mimetype": "text/x-python",
   "name": "python",
   "nbconvert_exporter": "python",
   "pygments_lexer": "ipython3",
   "version": "3.11.7"
  }
 },
 "nbformat": 4,
 "nbformat_minor": 2
}
