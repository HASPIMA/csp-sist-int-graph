{
 "cells": [
  {
   "cell_type": "code",
   "execution_count": 1,
   "metadata": {},
   "outputs": [],
   "source": [
    "from solve import partial_solve\n",
    "\n",
    "import sys\n",
    "\n",
    "path = 'fixed.log'\n",
    "sys.stdout = open(path, 'w')"
   ]
  },
  {
   "cell_type": "code",
   "execution_count": 2,
   "metadata": {},
   "outputs": [
    {
     "data": {
      "text/plain": [
       "[{'F': 0, 'x3': 0, 'x2': 0, 'x1': 0, 'U': 6, 'R': 4, 'W': 3, 'T': 1, 'O': 2},\n",
       " {'F': 0, 'x3': 0, 'x2': 0, 'x1': 0, 'U': 6, 'R': 8, 'W': 3, 'T': 2, 'O': 4}]"
      ]
     },
     "execution_count": 2,
     "metadata": {},
     "output_type": "execute_result"
    }
   ],
   "source": [
    "F = 0\n",
    "x3 = 0\n",
    "x2 = 0\n",
    "x1 = 0\n",
    "\n",
    "U = 6\n",
    "# R = 9\n",
    "\n",
    "# W = 0\n",
    "# T = 0\n",
    "\n",
    "# O = 0\n",
    "\n",
    "\n",
    "partial_solve(F=F, x3=x3, x2=x2, x1=x1, U=U,)"
   ]
  }
 ],
 "metadata": {
  "kernelspec": {
   "display_name": ".venv",
   "language": "python",
   "name": "python3"
  },
  "language_info": {
   "codemirror_mode": {
    "name": "ipython",
    "version": 3
   },
   "file_extension": ".py",
   "mimetype": "text/x-python",
   "name": "python",
   "nbconvert_exporter": "python",
   "pygments_lexer": "ipython3",
   "version": "3.11.7"
  }
 },
 "nbformat": 4,
 "nbformat_minor": 2
}
